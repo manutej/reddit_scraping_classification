{
 "cells": [
  {
   "cell_type": "code",
   "execution_count": 2,
   "id": "ba6b67c5",
   "metadata": {},
   "outputs": [],
   "source": [
    "# Import libraries\n",
    "import pandas as pd\n",
    "import numpy as np\n",
    "import matplotlib.pyplot as plt\n",
    "import seaborn as sns\n",
    "\n",
    "from sklearn.feature_extraction.text import CountVectorizer\n",
    "from sklearn.feature_extraction.text import TfidfTransformer\n",
    "from sklearn.model_selection import train_test_split, GridSearchCV\n",
    "from sklearn.linear_model import LogisticRegression\n",
    "from sklearn.neighbors import KNeighborsClassifier\n",
    "from sklearn.pipeline import Pipeline\n",
    "from sklearn.metrics import plot_confusion_matrix"
   ]
  },
  {
   "cell_type": "code",
   "execution_count": 3,
   "id": "3bb2ff54",
   "metadata": {},
   "outputs": [
    {
     "data": {
      "text/html": [
       "<div>\n",
       "<style scoped>\n",
       "    .dataframe tbody tr th:only-of-type {\n",
       "        vertical-align: middle;\n",
       "    }\n",
       "\n",
       "    .dataframe tbody tr th {\n",
       "        vertical-align: top;\n",
       "    }\n",
       "\n",
       "    .dataframe thead th {\n",
       "        text-align: right;\n",
       "    }\n",
       "</style>\n",
       "<table border=\"1\" class=\"dataframe\">\n",
       "  <thead>\n",
       "    <tr style=\"text-align: right;\">\n",
       "      <th></th>\n",
       "      <th>title</th>\n",
       "      <th>selftext</th>\n",
       "      <th>subreddit</th>\n",
       "      <th>created_utc</th>\n",
       "      <th>post_word_count</th>\n",
       "      <th>post_length</th>\n",
       "    </tr>\n",
       "  </thead>\n",
       "  <tbody>\n",
       "    <tr>\n",
       "      <th>0</th>\n",
       "      <td>Anyone graduated/currently enrolled in U Washi...</td>\n",
       "      <td>Would like to connect and clarify some doubts....</td>\n",
       "      <td>1</td>\n",
       "      <td>1637254319</td>\n",
       "      <td>10</td>\n",
       "      <td>65</td>\n",
       "    </tr>\n",
       "    <tr>\n",
       "      <th>1</th>\n",
       "      <td>possible implications in returning to work in ...</td>\n",
       "      <td>I've held off my cs studies for most of covid ...</td>\n",
       "      <td>1</td>\n",
       "      <td>1637254205</td>\n",
       "      <td>80</td>\n",
       "      <td>415</td>\n",
       "    </tr>\n",
       "    <tr>\n",
       "      <th>2</th>\n",
       "      <td>VR Career Advice</td>\n",
       "      <td>My background is in designing and programming ...</td>\n",
       "      <td>1</td>\n",
       "      <td>1637253634</td>\n",
       "      <td>468</td>\n",
       "      <td>2681</td>\n",
       "    </tr>\n",
       "    <tr>\n",
       "      <th>3</th>\n",
       "      <td>Professional resume writing service?</td>\n",
       "      <td>[removed]</td>\n",
       "      <td>1</td>\n",
       "      <td>1637253631</td>\n",
       "      <td>1</td>\n",
       "      <td>9</td>\n",
       "    </tr>\n",
       "    <tr>\n",
       "      <th>4</th>\n",
       "      <td>Has being completely honest and upfront about ...</td>\n",
       "      <td>Hello,\\n\\nI hate playing the game of salary ne...</td>\n",
       "      <td>1</td>\n",
       "      <td>1637253246</td>\n",
       "      <td>78</td>\n",
       "      <td>440</td>\n",
       "    </tr>\n",
       "  </tbody>\n",
       "</table>\n",
       "</div>"
      ],
      "text/plain": [
       "                                               title  \\\n",
       "0  Anyone graduated/currently enrolled in U Washi...   \n",
       "1  possible implications in returning to work in ...   \n",
       "2                                   VR Career Advice   \n",
       "3               Professional resume writing service?   \n",
       "4  Has being completely honest and upfront about ...   \n",
       "\n",
       "                                            selftext  subreddit  created_utc  \\\n",
       "0  Would like to connect and clarify some doubts....          1   1637254319   \n",
       "1  I've held off my cs studies for most of covid ...          1   1637254205   \n",
       "2  My background is in designing and programming ...          1   1637253634   \n",
       "3                                          [removed]          1   1637253631   \n",
       "4  Hello,\\n\\nI hate playing the game of salary ne...          1   1637253246   \n",
       "\n",
       "   post_word_count  post_length  \n",
       "0               10           65  \n",
       "1               80          415  \n",
       "2              468         2681  \n",
       "3                1            9  \n",
       "4               78          440  "
      ]
     },
     "execution_count": 3,
     "metadata": {},
     "output_type": "execute_result"
    }
   ],
   "source": [
    "#Subreddit column is the target of this data. \n",
    "# 1: r/CSCareerQuestions\n",
    "# 2: r/PersonalFinance\n",
    "\n",
    "df = pd.read_csv('data/clean_subreddit_data.csv')\n",
    "df.head()\n",
    "# Remember our target of the modeling will be \"subreddit\" column and\n",
    "# our features will be the \"selftext\" column\n",
    "# for subreddits: 1 represents r/CSCareerQuestions, 0 represents r/personalfinance"
   ]
  },
  {
   "cell_type": "code",
   "execution_count": 4,
   "id": "9107e83c",
   "metadata": {},
   "outputs": [
    {
     "data": {
      "text/plain": [
       "0    0.515014\n",
       "1    0.484986\n",
       "Name: subreddit, dtype: float64"
      ]
     },
     "execution_count": 4,
     "metadata": {},
     "output_type": "execute_result"
    }
   ],
   "source": [
    "# X is features, y is target\n",
    "# Note: In this classification problem we only use one column (text) for training\n",
    "X = df['selftext']\n",
    "y = df['subreddit']\n",
    "y.value_counts(normalize=True)\n",
    "# BASELINE ACCURACY FOR OUR MODEL"
   ]
  },
  {
   "cell_type": "code",
   "execution_count": 5,
   "id": "cae3e921",
   "metadata": {},
   "outputs": [],
   "source": [
    "# Training and Testing split of the data set for our model\n",
    "X_train,X_test,y_train,y_test = train_test_split(X,y,random_state=42,stratify = y)"
   ]
  },
  {
   "cell_type": "code",
   "execution_count": 6,
   "id": "bf31fb32",
   "metadata": {},
   "outputs": [
    {
     "name": "stdout",
     "output_type": "stream",
     "text": [
      "Training messages shape is:(1823,)\n",
      "Testing messages shape is:(608,)\n",
      "Training targets shape is:(1823,)\n",
      "Testing targets shape is:(608,)\n"
     ]
    }
   ],
   "source": [
    "# Show the sizes of training and test sets for X and y\n",
    "print(f'Training messages shape is:{X_train.shape}')\n",
    "print(f'Testing messages shape is:{X_test.shape}')\n",
    "print(f'Training targets shape is:{y_train.shape}')\n",
    "print(f'Testing targets shape is:{y_test.shape}')\n",
    "\n"
   ]
  },
  {
   "cell_type": "code",
   "execution_count": 7,
   "id": "b631934b",
   "metadata": {},
   "outputs": [],
   "source": [
    "#Initiate Count vectorizer with english stop words\n",
    "cvec = CountVectorizer(stop_words='english')\n",
    "X_train_cvec = cvec.fit_transform(X_train)\n",
    "X_test_cvec = cvec.transform(X_test)\n",
    "\n"
   ]
  },
  {
   "cell_type": "code",
   "execution_count": 8,
   "id": "24c6d858",
   "metadata": {},
   "outputs": [
    {
     "data": {
      "text/html": [
       "<div>\n",
       "<style scoped>\n",
       "    .dataframe tbody tr th:only-of-type {\n",
       "        vertical-align: middle;\n",
       "    }\n",
       "\n",
       "    .dataframe tbody tr th {\n",
       "        vertical-align: top;\n",
       "    }\n",
       "\n",
       "    .dataframe thead th {\n",
       "        text-align: right;\n",
       "    }\n",
       "</style>\n",
       "<table border=\"1\" class=\"dataframe\">\n",
       "  <thead>\n",
       "    <tr style=\"text-align: right;\">\n",
       "      <th></th>\n",
       "      <th>00</th>\n",
       "      <th>000</th>\n",
       "      <th>000k</th>\n",
       "      <th>000lbs</th>\n",
       "      <th>001</th>\n",
       "      <th>008</th>\n",
       "      <th>00s</th>\n",
       "      <th>01</th>\n",
       "      <th>02</th>\n",
       "      <th>025</th>\n",
       "      <th>...</th>\n",
       "      <th>zf5cp8u</th>\n",
       "      <th>zillow</th>\n",
       "      <th>zip</th>\n",
       "      <th>zoho</th>\n",
       "      <th>zone</th>\n",
       "      <th>zoned</th>\n",
       "      <th>zoom</th>\n",
       "      <th>zuckerberg</th>\n",
       "      <th>être</th>\n",
       "      <th>cs_or_pf</th>\n",
       "    </tr>\n",
       "  </thead>\n",
       "  <tbody>\n",
       "    <tr>\n",
       "      <th>0</th>\n",
       "      <td>0</td>\n",
       "      <td>0</td>\n",
       "      <td>0</td>\n",
       "      <td>0</td>\n",
       "      <td>0</td>\n",
       "      <td>0</td>\n",
       "      <td>0</td>\n",
       "      <td>0</td>\n",
       "      <td>0</td>\n",
       "      <td>0</td>\n",
       "      <td>...</td>\n",
       "      <td>0</td>\n",
       "      <td>0</td>\n",
       "      <td>0</td>\n",
       "      <td>0</td>\n",
       "      <td>0</td>\n",
       "      <td>0</td>\n",
       "      <td>0</td>\n",
       "      <td>0</td>\n",
       "      <td>0</td>\n",
       "      <td>0</td>\n",
       "    </tr>\n",
       "    <tr>\n",
       "      <th>1</th>\n",
       "      <td>0</td>\n",
       "      <td>0</td>\n",
       "      <td>0</td>\n",
       "      <td>0</td>\n",
       "      <td>0</td>\n",
       "      <td>0</td>\n",
       "      <td>0</td>\n",
       "      <td>0</td>\n",
       "      <td>0</td>\n",
       "      <td>0</td>\n",
       "      <td>...</td>\n",
       "      <td>0</td>\n",
       "      <td>0</td>\n",
       "      <td>0</td>\n",
       "      <td>0</td>\n",
       "      <td>0</td>\n",
       "      <td>0</td>\n",
       "      <td>0</td>\n",
       "      <td>0</td>\n",
       "      <td>0</td>\n",
       "      <td>1</td>\n",
       "    </tr>\n",
       "    <tr>\n",
       "      <th>2</th>\n",
       "      <td>0</td>\n",
       "      <td>0</td>\n",
       "      <td>0</td>\n",
       "      <td>0</td>\n",
       "      <td>0</td>\n",
       "      <td>0</td>\n",
       "      <td>0</td>\n",
       "      <td>0</td>\n",
       "      <td>0</td>\n",
       "      <td>0</td>\n",
       "      <td>...</td>\n",
       "      <td>0</td>\n",
       "      <td>0</td>\n",
       "      <td>0</td>\n",
       "      <td>0</td>\n",
       "      <td>0</td>\n",
       "      <td>0</td>\n",
       "      <td>0</td>\n",
       "      <td>0</td>\n",
       "      <td>0</td>\n",
       "      <td>0</td>\n",
       "    </tr>\n",
       "    <tr>\n",
       "      <th>3</th>\n",
       "      <td>0</td>\n",
       "      <td>0</td>\n",
       "      <td>0</td>\n",
       "      <td>0</td>\n",
       "      <td>0</td>\n",
       "      <td>0</td>\n",
       "      <td>0</td>\n",
       "      <td>0</td>\n",
       "      <td>0</td>\n",
       "      <td>0</td>\n",
       "      <td>...</td>\n",
       "      <td>0</td>\n",
       "      <td>0</td>\n",
       "      <td>0</td>\n",
       "      <td>0</td>\n",
       "      <td>0</td>\n",
       "      <td>0</td>\n",
       "      <td>0</td>\n",
       "      <td>0</td>\n",
       "      <td>0</td>\n",
       "      <td>0</td>\n",
       "    </tr>\n",
       "    <tr>\n",
       "      <th>4</th>\n",
       "      <td>0</td>\n",
       "      <td>0</td>\n",
       "      <td>0</td>\n",
       "      <td>0</td>\n",
       "      <td>0</td>\n",
       "      <td>0</td>\n",
       "      <td>0</td>\n",
       "      <td>0</td>\n",
       "      <td>0</td>\n",
       "      <td>0</td>\n",
       "      <td>...</td>\n",
       "      <td>0</td>\n",
       "      <td>0</td>\n",
       "      <td>0</td>\n",
       "      <td>0</td>\n",
       "      <td>0</td>\n",
       "      <td>0</td>\n",
       "      <td>0</td>\n",
       "      <td>0</td>\n",
       "      <td>0</td>\n",
       "      <td>1</td>\n",
       "    </tr>\n",
       "  </tbody>\n",
       "</table>\n",
       "<p>5 rows × 11146 columns</p>\n",
       "</div>"
      ],
      "text/plain": [
       "   00  000  000k  000lbs  001  008  00s  01  02  025  ...  zf5cp8u  zillow  \\\n",
       "0   0    0     0       0    0    0    0   0   0    0  ...        0       0   \n",
       "1   0    0     0       0    0    0    0   0   0    0  ...        0       0   \n",
       "2   0    0     0       0    0    0    0   0   0    0  ...        0       0   \n",
       "3   0    0     0       0    0    0    0   0   0    0  ...        0       0   \n",
       "4   0    0     0       0    0    0    0   0   0    0  ...        0       0   \n",
       "\n",
       "   zip  zoho  zone  zoned  zoom  zuckerberg  être  cs_or_pf  \n",
       "0    0     0     0      0     0           0     0         0  \n",
       "1    0     0     0      0     0           0     0         1  \n",
       "2    0     0     0      0     0           0     0         0  \n",
       "3    0     0     0      0     0           0     0         0  \n",
       "4    0     0     0      0     0           0     0         1  \n",
       "\n",
       "[5 rows x 11146 columns]"
      ]
     },
     "execution_count": 8,
     "metadata": {},
     "output_type": "execute_result"
    }
   ],
   "source": [
    "# Cteate a data frame from the cvec matrix by applying .todense()\n",
    "X_train_df = pd.DataFrame(X_train_cvec.todense(),columns = cvec.get_feature_names())\n",
    "X_test_df = pd.DataFrame(X_test_cvec.todense(),columns = cvec.get_feature_names())\n",
    "X_train_df['cs_or_pf'] = y_train.values\n",
    "X_train_df.head()\n",
    "\n"
   ]
  },
  {
   "cell_type": "code",
   "execution_count": null,
   "id": "c4b1d91f",
   "metadata": {},
   "outputs": [],
   "source": []
  },
  {
   "cell_type": "code",
   "execution_count": 9,
   "id": "dcb31e92",
   "metadata": {},
   "outputs": [
    {
     "data": {
      "text/html": [
       "<div>\n",
       "<style scoped>\n",
       "    .dataframe tbody tr th:only-of-type {\n",
       "        vertical-align: middle;\n",
       "    }\n",
       "\n",
       "    .dataframe tbody tr th {\n",
       "        vertical-align: top;\n",
       "    }\n",
       "\n",
       "    .dataframe thead th {\n",
       "        text-align: right;\n",
       "    }\n",
       "</style>\n",
       "<table border=\"1\" class=\"dataframe\">\n",
       "  <thead>\n",
       "    <tr style=\"text-align: right;\">\n",
       "      <th>cs_or_pf</th>\n",
       "      <th>0</th>\n",
       "      <th>1</th>\n",
       "    </tr>\n",
       "  </thead>\n",
       "  <tbody>\n",
       "    <tr>\n",
       "      <th>credit</th>\n",
       "      <td>582</td>\n",
       "      <td>4</td>\n",
       "    </tr>\n",
       "    <tr>\n",
       "      <th>money</th>\n",
       "      <td>553</td>\n",
       "      <td>70</td>\n",
       "    </tr>\n",
       "    <tr>\n",
       "      <th>just</th>\n",
       "      <td>517</td>\n",
       "      <td>531</td>\n",
       "    </tr>\n",
       "    <tr>\n",
       "      <th>year</th>\n",
       "      <td>517</td>\n",
       "      <td>308</td>\n",
       "    </tr>\n",
       "    <tr>\n",
       "      <th>pay</th>\n",
       "      <td>501</td>\n",
       "      <td>122</td>\n",
       "    </tr>\n",
       "    <tr>\n",
       "      <th>account</th>\n",
       "      <td>440</td>\n",
       "      <td>12</td>\n",
       "    </tr>\n",
       "    <tr>\n",
       "      <th>like</th>\n",
       "      <td>423</td>\n",
       "      <td>617</td>\n",
       "    </tr>\n",
       "    <tr>\n",
       "      <th>car</th>\n",
       "      <td>379</td>\n",
       "      <td>3</td>\n",
       "    </tr>\n",
       "    <tr>\n",
       "      <th>don</th>\n",
       "      <td>364</td>\n",
       "      <td>431</td>\n",
       "    </tr>\n",
       "    <tr>\n",
       "      <th>years</th>\n",
       "      <td>355</td>\n",
       "      <td>316</td>\n",
       "    </tr>\n",
       "    <tr>\n",
       "      <th>month</th>\n",
       "      <td>343</td>\n",
       "      <td>89</td>\n",
       "    </tr>\n",
       "    <tr>\n",
       "      <th>ve</th>\n",
       "      <td>342</td>\n",
       "      <td>443</td>\n",
       "    </tr>\n",
       "    <tr>\n",
       "      <th>time</th>\n",
       "      <td>322</td>\n",
       "      <td>419</td>\n",
       "    </tr>\n",
       "    <tr>\n",
       "      <th>know</th>\n",
       "      <td>313</td>\n",
       "      <td>375</td>\n",
       "    </tr>\n",
       "    <tr>\n",
       "      <th>card</th>\n",
       "      <td>297</td>\n",
       "      <td>3</td>\n",
       "    </tr>\n",
       "    <tr>\n",
       "      <th>000</th>\n",
       "      <td>291</td>\n",
       "      <td>24</td>\n",
       "    </tr>\n",
       "    <tr>\n",
       "      <th>make</th>\n",
       "      <td>272</td>\n",
       "      <td>170</td>\n",
       "    </tr>\n",
       "    <tr>\n",
       "      <th>want</th>\n",
       "      <td>271</td>\n",
       "      <td>352</td>\n",
       "    </tr>\n",
       "    <tr>\n",
       "      <th>need</th>\n",
       "      <td>262</td>\n",
       "      <td>162</td>\n",
       "    </tr>\n",
       "    <tr>\n",
       "      <th>new</th>\n",
       "      <td>255</td>\n",
       "      <td>277</td>\n",
       "    </tr>\n",
       "  </tbody>\n",
       "</table>\n",
       "</div>"
      ],
      "text/plain": [
       "cs_or_pf    0    1\n",
       "credit    582    4\n",
       "money     553   70\n",
       "just      517  531\n",
       "year      517  308\n",
       "pay       501  122\n",
       "account   440   12\n",
       "like      423  617\n",
       "car       379    3\n",
       "don       364  431\n",
       "years     355  316\n",
       "month     343   89\n",
       "ve        342  443\n",
       "time      322  419\n",
       "know      313  375\n",
       "card      297    3\n",
       "000       291   24\n",
       "make      272  170\n",
       "want      271  352\n",
       "need      262  162\n",
       "new       255  277"
      ]
     },
     "execution_count": 9,
     "metadata": {},
     "output_type": "execute_result"
    }
   ],
   "source": [
    "# Show the count of the personal finance and cs/Career Questions \n",
    "# 1 is for r/CSCareerQuestions, 0 is for r/personalfinance\n",
    "X_train_df.groupby('cs_or_pf').sum().T.sort_values(0,ascending=False).head(20)"
   ]
  },
  {
   "cell_type": "code",
   "execution_count": 10,
   "id": "1e43d360",
   "metadata": {},
   "outputs": [],
   "source": [
    "#initial pipeline framework with countvectorizer and logistic regression \n",
    "pipe = Pipeline([\n",
    "    ('cvec',CountVectorizer()),\n",
    "    ('tfidf', TfidfTransformer()),\n",
    "    ('model',LogisticRegression())\n",
    "])"
   ]
  },
  {
   "cell_type": "code",
   "execution_count": 11,
   "id": "6e8e1514",
   "metadata": {},
   "outputs": [
    {
     "name": "stdout",
     "output_type": "stream",
     "text": [
      "0.9632500376335994\n",
      "{}\n"
     ]
    }
   ],
   "source": [
    "params = {\n",
    "    \n",
    "}# Baseline parameters - RUN 1\n",
    "gs = GridSearchCV(pipe,param_grid=params)\n",
    "gs.fit(X_train,y_train)\n",
    "print(gs.best_score_)\n",
    "print(gs.best_params_)"
   ]
  },
  {
   "cell_type": "code",
   "execution_count": 12,
   "id": "a6b22ab3",
   "metadata": {},
   "outputs": [
    {
     "name": "stdout",
     "output_type": "stream",
     "text": [
      "0.9610537407797682\n",
      "{'cvec__stop_words': 'english'}\n"
     ]
    }
   ],
   "source": [
    "params2 = {\n",
    "    'cvec__stop_words':['english']\n",
    "}# Baseline parameters - RUN 1\n",
    "gs = GridSearchCV(pipe,param_grid=params2)\n",
    "gs.fit(X_train,y_train)\n",
    "print(gs.best_score_)\n",
    "print(gs.best_params_)"
   ]
  },
  {
   "cell_type": "code",
   "execution_count": 14,
   "id": "340c2495",
   "metadata": {},
   "outputs": [
    {
     "data": {
      "text/plain": [
       "0.9490131578947368"
      ]
     },
     "execution_count": 14,
     "metadata": {},
     "output_type": "execute_result"
    }
   ],
   "source": [
    "preds = gs.predict(X_test)\n",
    "gs.score(X_test,y_test)"
   ]
  },
  {
   "cell_type": "code",
   "execution_count": 15,
   "id": "3923556d",
   "metadata": {},
   "outputs": [
    {
     "name": "stdout",
     "output_type": "stream",
     "text": [
      "0.9627005870841489\n",
      "{'cvec__ngram_range': (1, 2), 'cvec__stop_words': 'english', 'model__solver': 'saga', 'tfidf__use_idf': True}\n"
     ]
    }
   ],
   "source": [
    "params3 = {\n",
    "    'cvec__ngram_range': [(1,1),(1, 2),(1,3),(2,2),(3,3)], \n",
    "    'cvec__stop_words':['english'],\n",
    "    'model__solver': ['newton-cg', 'lbfgs', 'liblinear', 'sag', 'saga'], \n",
    "    'tfidf__use_idf': [True,False]\n",
    "}\n",
    "gs = GridSearchCV(pipe,param_grid=params3)\n",
    "gs.fit(X_train,y_train)\n",
    "print(gs.best_score_)\n",
    "print(gs.best_params_)"
   ]
  },
  {
   "cell_type": "code",
   "execution_count": 16,
   "id": "9e00c8e3",
   "metadata": {},
   "outputs": [
    {
     "data": {
      "text/plain": [
       "0.9424342105263158"
      ]
     },
     "execution_count": 16,
     "metadata": {},
     "output_type": "execute_result"
    }
   ],
   "source": [
    "preds = gs.predict(X_test)\n",
    "gs.score(X_test,y_test)"
   ]
  },
  {
   "cell_type": "code",
   "execution_count": 28,
   "id": "0de50bc3",
   "metadata": {},
   "outputs": [
    {
     "data": {
      "image/png": "[encoded data removed]",
      "text/plain": [
       "<Figure size 432x288 with 2 Axes>"
      ]
     },
     "metadata": {
      "needs_background": "light"
     },
     "output_type": "display_data"
    }
   ],
   "source": [
    "# Create confusion Matrix\n",
    "plot_confusion_matrix(gs,X_test,y_test,display_labels = ['r/PersonalFinance','r/CSCareerQuestions']);\n",
    "plt.savefig('./images/model_1_confusion_matrix')"
   ]
  },
  {
   "cell_type": "code",
   "execution_count": 19,
   "id": "eedb5c59",
   "metadata": {},
   "outputs": [],
   "source": [
    "pipe2 = Pipeline([\n",
    "    ('cvec',CountVectorizer()),\n",
    "    ('tfidf', TfidfTransformer()),\n",
    "    ('model',KNeighborsClassifier())\n",
    "])\n",
    "\n"
   ]
  },
  {
   "cell_type": "code",
   "execution_count": 20,
   "id": "5a07801a",
   "metadata": {},
   "outputs": [
    {
     "name": "stdout",
     "output_type": "stream",
     "text": [
      "0.9221210296552762\n",
      "{}\n"
     ]
    }
   ],
   "source": [
    "params = {}\n",
    "gs = GridSearchCV(pipe2,param_grid=params)\n",
    "gs.fit(X_train,y_train)\n",
    "print(gs.best_score_)\n",
    "print(gs.best_params_)"
   ]
  },
  {
   "cell_type": "code",
   "execution_count": 21,
   "id": "bd5aa1a0",
   "metadata": {},
   "outputs": [
    {
     "data": {
      "text/plain": [
       "0.9144736842105263"
      ]
     },
     "execution_count": 21,
     "metadata": {},
     "output_type": "execute_result"
    }
   ],
   "source": [
    "preds = gs.predict(X_test)\n",
    "gs.score(X_test,y_test)"
   ]
  },
  {
   "cell_type": "code",
   "execution_count": 22,
   "id": "b3ab79ea",
   "metadata": {},
   "outputs": [
    {
     "name": "stdout",
     "output_type": "stream",
     "text": [
      "0.9369275929549902\n",
      "{'cvec__stop_words': 'english', 'tfidf__use_idf': True}\n"
     ]
    }
   ],
   "source": [
    "params2 = {\n",
    "    'cvec__stop_words':['english'],\n",
    "    'tfidf__use_idf': [True,False]\n",
    "    \n",
    "}# Baseline parameters - RUN 1\n",
    "gs = GridSearchCV(pipe2,param_grid=params2)\n",
    "gs.fit(X_train,y_train)\n",
    "print(gs.best_score_)\n",
    "print(gs.best_params_)"
   ]
  },
  {
   "cell_type": "code",
   "execution_count": 23,
   "id": "b59532f8",
   "metadata": {},
   "outputs": [
    {
     "data": {
      "text/plain": [
       "0.9276315789473685"
      ]
     },
     "execution_count": 23,
     "metadata": {},
     "output_type": "execute_result"
    }
   ],
   "source": [
    "preds = gs.predict(X_test)\n",
    "gs.score(X_test,y_test)"
   ]
  },
  {
   "cell_type": "code",
   "execution_count": 30,
   "id": "c0921d6d",
   "metadata": {},
   "outputs": [
    {
     "name": "stdout",
     "output_type": "stream",
     "text": [
      "0.9566716844799037\n",
      "{'cvec__ngram_range': (1, 3), 'cvec__stop_words': 'english', 'model__n_neighbors': 19, 'tfidf__use_idf': True}\n"
     ]
    }
   ],
   "source": [
    "params3 = {\n",
    "    'cvec__ngram_range': [(1,1),(1, 2),(1,3),(2,2),(3,3)], \n",
    "    'cvec__stop_words':['english'],\n",
    "    'model__n_neighbors': list(range(1, 21, 2)), \n",
    "    'tfidf__use_idf': [True,False]\n",
    "}\n",
    "gs = GridSearchCV(pipe2,param_grid=params3)\n",
    "gs.fit(X_train,y_train)\n",
    "print(gs.best_score_)\n",
    "print(gs.best_params_)"
   ]
  },
  {
   "cell_type": "code",
   "execution_count": 31,
   "id": "75636494",
   "metadata": {},
   "outputs": [
    {
     "data": {
      "text/plain": [
       "0.9391447368421053"
      ]
     },
     "execution_count": 31,
     "metadata": {},
     "output_type": "execute_result"
    }
   ],
   "source": [
    "preds = gs.predict(X_test)\n",
    "gs.score(X_test,y_test)\n"
   ]
  },
  {
   "cell_type": "code",
   "execution_count": 32,
   "id": "c8efaef4",
   "metadata": {},
   "outputs": [
    {
     "data": {
      "image/png": "[encoded data removed]",
      "text/plain": [
       "<Figure size 432x288 with 2 Axes>"
      ]
     },
     "metadata": {
      "needs_background": "light"
     },
     "output_type": "display_data"
    }
   ],
   "source": [
    "# Create confusion Matrix\n",
    "plot_confusion_matrix(gs,X_test,y_test,display_labels = ['r/PersonalFinance','r/CSCareerQuestions']);\n",
    "plt.savefig('./images/model_2_confusion_matrix')"
   ]
  },
  {
   "cell_type": "code",
   "execution_count": null,
   "id": "95314c2b",
   "metadata": {},
   "outputs": [],
   "source": []
  }
 ],
 "metadata": {
  "kernelspec": {
   "display_name": "Python 3",
   "language": "python",
   "name": "python3"
  },
  "language_info": {
   "codemirror_mode": {
    "name": "ipython",
    "version": 3
   },
   "file_extension": ".py",
   "mimetype": "text/x-python",
   "name": "python",
   "nbconvert_exporter": "python",
   "pygments_lexer": "ipython3",
   "version": "3.8.8"
  }
 },
 "nbformat": 4,
 "nbformat_minor": 5
}
