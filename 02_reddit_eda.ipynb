{
 "cells": [
  {
   "cell_type": "code",
   "execution_count": 68,
   "id": "7f17c748",
   "metadata": {
    "scrolled": true
   },
   "outputs": [],
   "source": [
    "# Import Libraries\n",
    "import pandas as pd\n",
    "import numpy as np\n",
    "import matplotlib.pyplot as plt\n",
    "import seaborn as sns\n",
    "from sklearn.feature_extraction.text import CountVectorizer\n"
   ]
  },
  {
   "cell_type": "code",
   "execution_count": 69,
   "id": "a4427e7b",
   "metadata": {
    "scrolled": true
   },
   "outputs": [],
   "source": [
    "df = pd.read_csv('./data/subreddit_data_1000.csv') #Read scraped data"
   ]
  },
  {
   "cell_type": "code",
   "execution_count": 70,
   "id": "3b9c2efd",
   "metadata": {
    "scrolled": true
   },
   "outputs": [
    {
     "data": {
      "text/html": [
       "<div>\n",
       "<style scoped>\n",
       "    .dataframe tbody tr th:only-of-type {\n",
       "        vertical-align: middle;\n",
       "    }\n",
       "\n",
       "    .dataframe tbody tr th {\n",
       "        vertical-align: top;\n",
       "    }\n",
       "\n",
       "    .dataframe thead th {\n",
       "        text-align: right;\n",
       "    }\n",
       "</style>\n",
       "<table border=\"1\" class=\"dataframe\">\n",
       "  <thead>\n",
       "    <tr style=\"text-align: right;\">\n",
       "      <th></th>\n",
       "      <th>Unnamed: 0</th>\n",
       "      <th>title</th>\n",
       "      <th>selftext</th>\n",
       "      <th>subreddit</th>\n",
       "      <th>created_utc</th>\n",
       "    </tr>\n",
       "  </thead>\n",
       "  <tbody>\n",
       "    <tr>\n",
       "      <th>0</th>\n",
       "      <td>0</td>\n",
       "      <td>Accidentally deposited rollover check into my ...</td>\n",
       "      <td>My company closed out my old 401k and I electe...</td>\n",
       "      <td>personalfinance</td>\n",
       "      <td>1637254286</td>\n",
       "    </tr>\n",
       "    <tr>\n",
       "      <th>1</th>\n",
       "      <td>1</td>\n",
       "      <td>Unemployment Advice</td>\n",
       "      <td>I have been working for my current employers f...</td>\n",
       "      <td>personalfinance</td>\n",
       "      <td>1637254255</td>\n",
       "    </tr>\n",
       "    <tr>\n",
       "      <th>2</th>\n",
       "      <td>2</td>\n",
       "      <td>Where does the interest in compound interest c...</td>\n",
       "      <td>This may be a stupid question but I feel like ...</td>\n",
       "      <td>personalfinance</td>\n",
       "      <td>1637254028</td>\n",
       "    </tr>\n",
       "    <tr>\n",
       "      <th>3</th>\n",
       "      <td>3</td>\n",
       "      <td>Debt Settlement and Inflation</td>\n",
       "      <td>I see a lot of posts lately on credit card com...</td>\n",
       "      <td>personalfinance</td>\n",
       "      <td>1637254017</td>\n",
       "    </tr>\n",
       "    <tr>\n",
       "      <th>4</th>\n",
       "      <td>4</td>\n",
       "      <td>Taking out money from trad. IRA to put into Ro...</td>\n",
       "      <td>I had a traditional IRA with primerica and I r...</td>\n",
       "      <td>personalfinance</td>\n",
       "      <td>1637253836</td>\n",
       "    </tr>\n",
       "  </tbody>\n",
       "</table>\n",
       "</div>"
      ],
      "text/plain": [
       "   Unnamed: 0                                              title  \\\n",
       "0           0  Accidentally deposited rollover check into my ...   \n",
       "1           1                                Unemployment Advice   \n",
       "2           2  Where does the interest in compound interest c...   \n",
       "3           3                      Debt Settlement and Inflation   \n",
       "4           4  Taking out money from trad. IRA to put into Ro...   \n",
       "\n",
       "                                            selftext        subreddit  \\\n",
       "0  My company closed out my old 401k and I electe...  personalfinance   \n",
       "1  I have been working for my current employers f...  personalfinance   \n",
       "2  This may be a stupid question but I feel like ...  personalfinance   \n",
       "3  I see a lot of posts lately on credit card com...  personalfinance   \n",
       "4  I had a traditional IRA with primerica and I r...  personalfinance   \n",
       "\n",
       "   created_utc  \n",
       "0   1637254286  \n",
       "1   1637254255  \n",
       "2   1637254028  \n",
       "3   1637254017  \n",
       "4   1637253836  "
      ]
     },
     "execution_count": 70,
     "metadata": {},
     "output_type": "execute_result"
    }
   ],
   "source": [
    "df.head() #View first 5 rows"
   ]
  },
  {
   "cell_type": "code",
   "execution_count": 71,
   "id": "271a607c",
   "metadata": {
    "scrolled": true
   },
   "outputs": [],
   "source": [
    "df.drop(columns = 'Unnamed: 0',inplace = True) #Drop extra index column"
   ]
  },
  {
   "cell_type": "code",
   "execution_count": 72,
   "id": "0ac0c5cf",
   "metadata": {
    "scrolled": true
   },
   "outputs": [
    {
     "data": {
      "text/plain": [
       "subreddit\n",
       "cscareerquestions    1500\n",
       "personalfinance      1500\n",
       "Name: created_utc, dtype: int64"
      ]
     },
     "execution_count": 72,
     "metadata": {},
     "output_type": "execute_result"
    }
   ],
   "source": [
    "df.groupby('subreddit')['created_utc'].count() #Count posts for each subreddit"
   ]
  },
  {
   "cell_type": "code",
   "execution_count": 73,
   "id": "b8c3a973",
   "metadata": {
    "scrolled": true
   },
   "outputs": [
    {
     "data": {
      "text/html": [
       "<div>\n",
       "<style scoped>\n",
       "    .dataframe tbody tr th:only-of-type {\n",
       "        vertical-align: middle;\n",
       "    }\n",
       "\n",
       "    .dataframe tbody tr th {\n",
       "        vertical-align: top;\n",
       "    }\n",
       "\n",
       "    .dataframe thead th {\n",
       "        text-align: right;\n",
       "    }\n",
       "</style>\n",
       "<table border=\"1\" class=\"dataframe\">\n",
       "  <thead>\n",
       "    <tr style=\"text-align: right;\">\n",
       "      <th></th>\n",
       "      <th>title</th>\n",
       "      <th>selftext</th>\n",
       "      <th>subreddit</th>\n",
       "      <th>created_utc</th>\n",
       "    </tr>\n",
       "  </thead>\n",
       "  <tbody>\n",
       "    <tr>\n",
       "      <th>1500</th>\n",
       "      <td>Anyone graduated/currently enrolled in U Washi...</td>\n",
       "      <td>Would like to connect and clarify some doubts....</td>\n",
       "      <td>cscareerquestions</td>\n",
       "      <td>1637254319</td>\n",
       "    </tr>\n",
       "    <tr>\n",
       "      <th>1501</th>\n",
       "      <td>possible implications in returning to work in ...</td>\n",
       "      <td>I've held off my cs studies for most of covid ...</td>\n",
       "      <td>cscareerquestions</td>\n",
       "      <td>1637254205</td>\n",
       "    </tr>\n",
       "    <tr>\n",
       "      <th>1502</th>\n",
       "      <td>VR Career Advice</td>\n",
       "      <td>My background is in designing and programming ...</td>\n",
       "      <td>cscareerquestions</td>\n",
       "      <td>1637253634</td>\n",
       "    </tr>\n",
       "    <tr>\n",
       "      <th>1503</th>\n",
       "      <td>Professional resume writing service?</td>\n",
       "      <td>[removed]</td>\n",
       "      <td>cscareerquestions</td>\n",
       "      <td>1637253631</td>\n",
       "    </tr>\n",
       "    <tr>\n",
       "      <th>1504</th>\n",
       "      <td>Has being completely honest and upfront about ...</td>\n",
       "      <td>Hello,\\n\\nI hate playing the game of salary ne...</td>\n",
       "      <td>cscareerquestions</td>\n",
       "      <td>1637253246</td>\n",
       "    </tr>\n",
       "  </tbody>\n",
       "</table>\n",
       "</div>"
      ],
      "text/plain": [
       "                                                  title  \\\n",
       "1500  Anyone graduated/currently enrolled in U Washi...   \n",
       "1501  possible implications in returning to work in ...   \n",
       "1502                                   VR Career Advice   \n",
       "1503               Professional resume writing service?   \n",
       "1504  Has being completely honest and upfront about ...   \n",
       "\n",
       "                                               selftext          subreddit  \\\n",
       "1500  Would like to connect and clarify some doubts....  cscareerquestions   \n",
       "1501  I've held off my cs studies for most of covid ...  cscareerquestions   \n",
       "1502  My background is in designing and programming ...  cscareerquestions   \n",
       "1503                                          [removed]  cscareerquestions   \n",
       "1504  Hello,\\n\\nI hate playing the game of salary ne...  cscareerquestions   \n",
       "\n",
       "      created_utc  \n",
       "1500   1637254319  \n",
       "1501   1637254205  \n",
       "1502   1637253634  \n",
       "1503   1637253631  \n",
       "1504   1637253246  "
      ]
     },
     "execution_count": 73,
     "metadata": {},
     "output_type": "execute_result"
    }
   ],
   "source": [
    "# Create separate subreddit for cscareerquestions\n",
    "df_cs = df[df['subreddit'] == 'cscareerquestions']\n",
    "df_cs.head()"
   ]
  },
  {
   "cell_type": "code",
   "execution_count": 74,
   "id": "8ab1a0c0",
   "metadata": {
    "scrolled": true
   },
   "outputs": [
    {
     "data": {
      "text/html": [
       "<div>\n",
       "<style scoped>\n",
       "    .dataframe tbody tr th:only-of-type {\n",
       "        vertical-align: middle;\n",
       "    }\n",
       "\n",
       "    .dataframe tbody tr th {\n",
       "        vertical-align: top;\n",
       "    }\n",
       "\n",
       "    .dataframe thead th {\n",
       "        text-align: right;\n",
       "    }\n",
       "</style>\n",
       "<table border=\"1\" class=\"dataframe\">\n",
       "  <thead>\n",
       "    <tr style=\"text-align: right;\">\n",
       "      <th></th>\n",
       "      <th>title</th>\n",
       "      <th>selftext</th>\n",
       "      <th>subreddit</th>\n",
       "      <th>created_utc</th>\n",
       "    </tr>\n",
       "  </thead>\n",
       "  <tbody>\n",
       "    <tr>\n",
       "      <th>0</th>\n",
       "      <td>Accidentally deposited rollover check into my ...</td>\n",
       "      <td>My company closed out my old 401k and I electe...</td>\n",
       "      <td>personalfinance</td>\n",
       "      <td>1637254286</td>\n",
       "    </tr>\n",
       "    <tr>\n",
       "      <th>1</th>\n",
       "      <td>Unemployment Advice</td>\n",
       "      <td>I have been working for my current employers f...</td>\n",
       "      <td>personalfinance</td>\n",
       "      <td>1637254255</td>\n",
       "    </tr>\n",
       "    <tr>\n",
       "      <th>2</th>\n",
       "      <td>Where does the interest in compound interest c...</td>\n",
       "      <td>This may be a stupid question but I feel like ...</td>\n",
       "      <td>personalfinance</td>\n",
       "      <td>1637254028</td>\n",
       "    </tr>\n",
       "    <tr>\n",
       "      <th>3</th>\n",
       "      <td>Debt Settlement and Inflation</td>\n",
       "      <td>I see a lot of posts lately on credit card com...</td>\n",
       "      <td>personalfinance</td>\n",
       "      <td>1637254017</td>\n",
       "    </tr>\n",
       "    <tr>\n",
       "      <th>4</th>\n",
       "      <td>Taking out money from trad. IRA to put into Ro...</td>\n",
       "      <td>I had a traditional IRA with primerica and I r...</td>\n",
       "      <td>personalfinance</td>\n",
       "      <td>1637253836</td>\n",
       "    </tr>\n",
       "  </tbody>\n",
       "</table>\n",
       "</div>"
      ],
      "text/plain": [
       "                                               title  \\\n",
       "0  Accidentally deposited rollover check into my ...   \n",
       "1                                Unemployment Advice   \n",
       "2  Where does the interest in compound interest c...   \n",
       "3                      Debt Settlement and Inflation   \n",
       "4  Taking out money from trad. IRA to put into Ro...   \n",
       "\n",
       "                                            selftext        subreddit  \\\n",
       "0  My company closed out my old 401k and I electe...  personalfinance   \n",
       "1  I have been working for my current employers f...  personalfinance   \n",
       "2  This may be a stupid question but I feel like ...  personalfinance   \n",
       "3  I see a lot of posts lately on credit card com...  personalfinance   \n",
       "4  I had a traditional IRA with primerica and I r...  personalfinance   \n",
       "\n",
       "   created_utc  \n",
       "0   1637254286  \n",
       "1   1637254255  \n",
       "2   1637254028  \n",
       "3   1637254017  \n",
       "4   1637253836  "
      ]
     },
     "execution_count": 74,
     "metadata": {},
     "output_type": "execute_result"
    }
   ],
   "source": [
    "## Create separate subreddit for cscareerquestions\n",
    "df_pf = df[df['subreddit'] == 'personalfinance']\n",
    "df_pf.head()"
   ]
  },
  {
   "cell_type": "code",
   "execution_count": 75,
   "id": "80b539dd",
   "metadata": {
    "scrolled": true
   },
   "outputs": [
    {
     "name": "stderr",
     "output_type": "stream",
     "text": [
      "<ipython-input-75-89fd45039a25>:1: SettingWithCopyWarning: \n",
      "A value is trying to be set on a copy of a slice from a DataFrame\n",
      "\n",
      "See the caveats in the documentation: https://pandas.pydata.org/pandas-docs/stable/user_guide/indexing.html#returning-a-view-versus-a-copy\n",
      "  df_pf.drop_duplicates(subset = 'selftext',inplace=True) #Drop duplicates\n"
     ]
    }
   ],
   "source": [
    "df_pf.drop_duplicates(subset = 'selftext',inplace=True) #Drop duplicates"
   ]
  },
  {
   "cell_type": "code",
   "execution_count": 76,
   "id": "8a1e9305",
   "metadata": {
    "scrolled": true
   },
   "outputs": [
    {
     "data": {
      "text/plain": [
       "(1253, 4)"
      ]
     },
     "execution_count": 76,
     "metadata": {},
     "output_type": "execute_result"
    }
   ],
   "source": [
    "df_pf.shape #Shape of this data after duplicates drop"
   ]
  },
  {
   "cell_type": "code",
   "execution_count": 77,
   "id": "c10a3a6c",
   "metadata": {
    "scrolled": true
   },
   "outputs": [
    {
     "name": "stderr",
     "output_type": "stream",
     "text": [
      "<ipython-input-77-44cfffebe3e1>:1: SettingWithCopyWarning: \n",
      "A value is trying to be set on a copy of a slice from a DataFrame\n",
      "\n",
      "See the caveats in the documentation: https://pandas.pydata.org/pandas-docs/stable/user_guide/indexing.html#returning-a-view-versus-a-copy\n",
      "  df_cs.drop_duplicates(subset = 'selftext',inplace=True)\n"
     ]
    }
   ],
   "source": [
    "df_cs.drop_duplicates(subset = 'selftext',inplace=True)"
   ]
  },
  {
   "cell_type": "code",
   "execution_count": 78,
   "id": "ce1fe490",
   "metadata": {
    "scrolled": true
   },
   "outputs": [
    {
     "data": {
      "text/plain": [
       "(1180, 4)"
      ]
     },
     "execution_count": 78,
     "metadata": {},
     "output_type": "execute_result"
    }
   ],
   "source": [
    "df_cs.shape #Shape of this data after duplicates drop"
   ]
  },
  {
   "cell_type": "code",
   "execution_count": 79,
   "id": "4dc60a07",
   "metadata": {
    "scrolled": true
   },
   "outputs": [
    {
     "name": "stdout",
     "output_type": "stream",
     "text": [
      "NaN Values in CS Career Questions Subreddit posts\n",
      "title          0\n",
      "selftext       1\n",
      "subreddit      0\n",
      "created_utc    0\n",
      "dtype: int64\n",
      "NaN Values in Personal Finance Subreddit posts\n",
      "title          0\n",
      "selftext       1\n",
      "subreddit      0\n",
      "created_utc    0\n",
      "dtype: int64\n"
     ]
    }
   ],
   "source": [
    "#Show the number of NaN values in the two subreddit dataframes\n",
    "print('NaN Values in CS Career Questions Subreddit posts')\n",
    "print(df_cs.isna().sum()) #We see 1 NaN value to clean in df_cs\n",
    "print('NaN Values in Personal Finance Subreddit posts')\n",
    "print(df_pf.isna().sum()) #We see 1 NaN value to clean in "
   ]
  },
  {
   "cell_type": "markdown",
   "id": "4f663d2d",
   "metadata": {},
   "source": [
    "#### Let's go ahead and drop these NaN values:"
   ]
  },
  {
   "cell_type": "code",
   "execution_count": 80,
   "id": "466dbf40",
   "metadata": {
    "scrolled": true
   },
   "outputs": [
    {
     "name": "stdout",
     "output_type": "stream",
     "text": [
      "                                                  title selftext  \\\n",
      "1657  [Google / FB] Recruiter wants me to name comp ...      NaN   \n",
      "\n",
      "              subreddit  created_utc  \n",
      "1657  cscareerquestions   1637190185  \n"
     ]
    }
   ],
   "source": [
    "print(df_cs[df_cs.isna().any(axis=1)]) #The NaN value in this data\n",
    "df_cs = df_cs.dropna()\n"
   ]
  },
  {
   "cell_type": "code",
   "execution_count": 81,
   "id": "b7807c91",
   "metadata": {
    "scrolled": true
   },
   "outputs": [
    {
     "name": "stdout",
     "output_type": "stream",
     "text": [
      "                                                title selftext  \\\n",
      "78  I’m 25 and I have 40k in savings and 23k in IR...      NaN   \n",
      "\n",
      "          subreddit  created_utc  \n",
      "78  personalfinance   1637241680  \n"
     ]
    }
   ],
   "source": [
    "print(df_pf[df_pf.isna().any(axis=1)]) #The NaN value in this data\n",
    "df_pf = df_pf.dropna()\n"
   ]
  },
  {
   "cell_type": "code",
   "execution_count": 82,
   "id": "a4d187df",
   "metadata": {
    "scrolled": true
   },
   "outputs": [
    {
     "name": "stdout",
     "output_type": "stream",
     "text": [
      "NaN Values in CS Career Questions Subreddit posts\n",
      "title          0\n",
      "selftext       0\n",
      "subreddit      0\n",
      "created_utc    0\n",
      "dtype: int64\n",
      "NaN Values in Personal Finance Subreddit posts\n",
      "title          0\n",
      "selftext       0\n",
      "subreddit      0\n",
      "created_utc    0\n",
      "dtype: int64\n"
     ]
    }
   ],
   "source": [
    "print('NaN Values in CS Career Questions Subreddit posts')\n",
    "print(df_cs.isna().sum()) #We see 1 NaN value to clean in df_cs\n",
    "print('NaN Values in Personal Finance Subreddit posts')\n",
    "print(df_pf.isna().sum()) #We see 1 NaN value to clean in "
   ]
  },
  {
   "cell_type": "code",
   "execution_count": null,
   "id": "52cb6b38",
   "metadata": {
    "scrolled": true
   },
   "outputs": [],
   "source": []
  },
  {
   "cell_type": "code",
   "execution_count": 83,
   "id": "27f95472",
   "metadata": {
    "scrolled": true
   },
   "outputs": [],
   "source": [
    "# Adding word count and status length for each subreddit data frame\n",
    "def word_counts(df):\n",
    "    df['post_word_count'] = [len(df['selftext'].iloc[i].split(' ')) for i, status in enumerate(df['selftext'])]\n",
    "    df['post_length'] = [len(df['selftext'].iloc[i]) for i, status in enumerate(df['selftext'])]\n",
    "    return df\n",
    "\n",
    "df_cs = word_counts(df_cs)\n",
    "df_pf = word_counts(df_pf)"
   ]
  },
  {
   "cell_type": "code",
   "execution_count": 84,
   "id": "bdb2e3ab",
   "metadata": {
    "scrolled": true
   },
   "outputs": [
    {
     "data": {
      "text/html": [
       "<div>\n",
       "<style scoped>\n",
       "    .dataframe tbody tr th:only-of-type {\n",
       "        vertical-align: middle;\n",
       "    }\n",
       "\n",
       "    .dataframe tbody tr th {\n",
       "        vertical-align: top;\n",
       "    }\n",
       "\n",
       "    .dataframe thead th {\n",
       "        text-align: right;\n",
       "    }\n",
       "</style>\n",
       "<table border=\"1\" class=\"dataframe\">\n",
       "  <thead>\n",
       "    <tr style=\"text-align: right;\">\n",
       "      <th></th>\n",
       "      <th>title</th>\n",
       "      <th>selftext</th>\n",
       "      <th>subreddit</th>\n",
       "      <th>created_utc</th>\n",
       "      <th>post_word_count</th>\n",
       "      <th>post_length</th>\n",
       "    </tr>\n",
       "  </thead>\n",
       "  <tbody>\n",
       "    <tr>\n",
       "      <th>0</th>\n",
       "      <td>Accidentally deposited rollover check into my ...</td>\n",
       "      <td>My company closed out my old 401k and I electe...</td>\n",
       "      <td>personalfinance</td>\n",
       "      <td>1637254286</td>\n",
       "      <td>126</td>\n",
       "      <td>663</td>\n",
       "    </tr>\n",
       "    <tr>\n",
       "      <th>1</th>\n",
       "      <td>Unemployment Advice</td>\n",
       "      <td>I have been working for my current employers f...</td>\n",
       "      <td>personalfinance</td>\n",
       "      <td>1637254255</td>\n",
       "      <td>692</td>\n",
       "      <td>3762</td>\n",
       "    </tr>\n",
       "    <tr>\n",
       "      <th>2</th>\n",
       "      <td>Where does the interest in compound interest c...</td>\n",
       "      <td>This may be a stupid question but I feel like ...</td>\n",
       "      <td>personalfinance</td>\n",
       "      <td>1637254028</td>\n",
       "      <td>171</td>\n",
       "      <td>970</td>\n",
       "    </tr>\n",
       "    <tr>\n",
       "      <th>3</th>\n",
       "      <td>Debt Settlement and Inflation</td>\n",
       "      <td>I see a lot of posts lately on credit card com...</td>\n",
       "      <td>personalfinance</td>\n",
       "      <td>1637254017</td>\n",
       "      <td>49</td>\n",
       "      <td>279</td>\n",
       "    </tr>\n",
       "    <tr>\n",
       "      <th>4</th>\n",
       "      <td>Taking out money from trad. IRA to put into Ro...</td>\n",
       "      <td>I had a traditional IRA with primerica and I r...</td>\n",
       "      <td>personalfinance</td>\n",
       "      <td>1637253836</td>\n",
       "      <td>201</td>\n",
       "      <td>1015</td>\n",
       "    </tr>\n",
       "  </tbody>\n",
       "</table>\n",
       "</div>"
      ],
      "text/plain": [
       "                                               title  \\\n",
       "0  Accidentally deposited rollover check into my ...   \n",
       "1                                Unemployment Advice   \n",
       "2  Where does the interest in compound interest c...   \n",
       "3                      Debt Settlement and Inflation   \n",
       "4  Taking out money from trad. IRA to put into Ro...   \n",
       "\n",
       "                                            selftext        subreddit  \\\n",
       "0  My company closed out my old 401k and I electe...  personalfinance   \n",
       "1  I have been working for my current employers f...  personalfinance   \n",
       "2  This may be a stupid question but I feel like ...  personalfinance   \n",
       "3  I see a lot of posts lately on credit card com...  personalfinance   \n",
       "4  I had a traditional IRA with primerica and I r...  personalfinance   \n",
       "\n",
       "   created_utc  post_word_count  post_length  \n",
       "0   1637254286              126          663  \n",
       "1   1637254255              692         3762  \n",
       "2   1637254028              171          970  \n",
       "3   1637254017               49          279  \n",
       "4   1637253836              201         1015  "
      ]
     },
     "execution_count": 84,
     "metadata": {},
     "output_type": "execute_result"
    }
   ],
   "source": [
    "df_cs.head()\n",
    "df_pf.head()"
   ]
  },
  {
   "cell_type": "code",
   "execution_count": 85,
   "id": "c0262513",
   "metadata": {
    "scrolled": true
   },
   "outputs": [],
   "source": [
    "# Function for plotting the distributions of word count and post lengths\n",
    "def plot_length_distributions(df):\n",
    "    plt.tight_layout()\n",
    "    plt.figure(figsize = (8,5));\n",
    "    df['post_word_count'].hist()\n",
    "    plt.title('Distribution of Posts by Word Count',fontsize = 20)\n",
    "    plt.xlabel('Word Count',fontsize = 18);\n",
    "    plt.ylabel('Frequency',fontsize=18);\n",
    "\n",
    "    plt.figure(figsize = (8,5));\n",
    "    df['post_length'].hist()\n",
    "    plt.title('Distribution of Posts by Character Length',fontsize = 20)\n",
    "    plt.xlabel('Character Length',fontsize = 18);\n",
    "    plt.ylabel('Frequency',fontsize=18);\n",
    "\n"
   ]
  },
  {
   "cell_type": "markdown",
   "id": "41fb31e4",
   "metadata": {},
   "source": [
    "## Word Count and Post Length for r/CSCareerQuestions"
   ]
  },
  {
   "cell_type": "code",
   "execution_count": 86,
   "id": "f77ca1ae",
   "metadata": {
    "scrolled": true
   },
   "outputs": [
    {
     "data": {
      "text/plain": [
       "<Figure size 432x288 with 0 Axes>"
      ]
     },
     "metadata": {},
     "output_type": "display_data"
    },
    {
     "data": {
      "image/png": "[encoded data removed]",
      "text/plain": [
       "<Figure size 576x360 with 1 Axes>"
      ]
     },
     "metadata": {
      "needs_background": "light"
     },
     "output_type": "display_data"
    },
    {
     "data": {
      "image/png": "[encoded data removed]",
      "text/plain": [
       "<Figure size 576x360 with 1 Axes>"
      ]
     },
     "metadata": {
      "needs_background": "light"
     },
     "output_type": "display_data"
    }
   ],
   "source": [
    "plot_length_distributions(df_cs);"
   ]
  },
  {
   "cell_type": "markdown",
   "id": "1f4a8085",
   "metadata": {},
   "source": [
    "## Word Count and Post Length for r/personalfinance"
   ]
  },
  {
   "cell_type": "code",
   "execution_count": 87,
   "id": "41ad213b",
   "metadata": {
    "scrolled": true
   },
   "outputs": [
    {
     "data": {
      "text/plain": [
       "<Figure size 432x288 with 0 Axes>"
      ]
     },
     "metadata": {},
     "output_type": "display_data"
    },
    {
     "data": {
      "image/png": "[encoded data removed]",
      "text/plain": [
       "<Figure size 576x360 with 1 Axes>"
      ]
     },
     "metadata": {
      "needs_background": "light"
     },
     "output_type": "display_data"
    },
    {
     "data": {
      "image/png": "[encoded data removed]",
      "text/plain": [
       "<Figure size 576x360 with 1 Axes>"
      ]
     },
     "metadata": {
      "needs_background": "light"
     },
     "output_type": "display_data"
    }
   ],
   "source": [
    "plot_length_distributions(df_pf)"
   ]
  },
  {
   "cell_type": "markdown",
   "id": "f1b4d0e8",
   "metadata": {},
   "source": [
    "### Now let's begin the analysis of the actual texts themselves. To do this, we will have to first vectorize the texts (create numerical features) and make a dataframe of these vectors  "
   ]
  },
  {
   "cell_type": "code",
   "execution_count": 88,
   "id": "29dd9a5b",
   "metadata": {
    "scrolled": true
   },
   "outputs": [],
   "source": [
    "# Count vectorizer generator function for definining \n",
    "# single words, bigrams, and trigrams\n",
    "def cvec_generator(df,ngrams = 1):\n",
    "    \n",
    "    cvec = CountVectorizer(stop_words = 'english',ngram_range = (ngrams,ngrams))\n",
    "    print(cvec)\n",
    "    X = df['selftext']\n",
    "    cvec.fit(X)\n",
    "    X_cvec = cvec.transform(X)\n",
    "    X_cvec.shape\n",
    "\n",
    "    X_cvec_df = pd.DataFrame(X_cvec.todense(), \n",
    "                              columns=cvec.get_feature_names())\n",
    "    return X_cvec_df\n",
    "\n",
    "\n"
   ]
  },
  {
   "cell_type": "code",
   "execution_count": 89,
   "id": "f6816388",
   "metadata": {
    "scrolled": true
   },
   "outputs": [],
   "source": [
    "# Function for plotting the top 15 most common words/bigrams/trigrams\n",
    "def word_plots(df,cs_or_pf,n_gram_length):\n",
    "    subreddit_dic = {'cs':'r/CSCareerQuestions','pf':'r/PersonalFinance'}\n",
    "    subr = subreddit_dic[cs_or_pf]\n",
    "    \n",
    "    ngram_dict = {1:'Words',2:'Bigrams',3:'Trigrams'}\n",
    "    ngrm = ngram_dict[n_gram_length]\n",
    "    plt.tight_layout()\n",
    "    plt.figure(figsize=(10,5))\n",
    "    df.sum().sort_values(ascending=False).head(15).sort_values().plot(kind = 'barh')\n",
    "    plt.title(f'Top 15 Most Common {ngrm} for {subr}');\n",
    "\n"
   ]
  },
  {
   "cell_type": "code",
   "execution_count": 90,
   "id": "82c89cfa",
   "metadata": {
    "scrolled": true
   },
   "outputs": [
    {
     "name": "stdout",
     "output_type": "stream",
     "text": [
      "CountVectorizer(stop_words='english')\n",
      "CountVectorizer(stop_words='english')\n",
      "CountVectorizer(ngram_range=(2, 2), stop_words='english')\n",
      "CountVectorizer(ngram_range=(2, 2), stop_words='english')\n",
      "CountVectorizer(ngram_range=(3, 3), stop_words='english')\n",
      "CountVectorizer(ngram_range=(3, 3), stop_words='english')\n"
     ]
    }
   ],
   "source": [
    "#Count vectorizers using the cvec_generator function\n",
    "X_cvec_cs = cvec_generator(df_cs)\n",
    "X_cvec_pf = cvec_generator(df_pf)\n",
    "X_cvec_cs_bi = cvec_generator(df_cs,ngrams = 2)\n",
    "X_cvec_pf_bi = cvec_generator(df_pf,ngrams = 2)\n",
    "X_cvec_cs_tri = cvec_generator(df_cs,ngrams = 3)\n",
    "X_cvec_pf_tri = cvec_generator(df_pf,ngrams = 3)\n",
    "X_cvecs = ['X_cvec_cs','X_cvec_pf','X_cvec_cs_bi','X_cvec_pf_bi','X_cvec_cs_tri','X_cvec_pf_tri']"
   ]
  },
  {
   "cell_type": "code",
   "execution_count": 91,
   "id": "35d2d34f",
   "metadata": {},
   "outputs": [
    {
     "data": {
      "text/plain": [
       "<Figure size 432x288 with 0 Axes>"
      ]
     },
     "metadata": {},
     "output_type": "display_data"
    },
    {
     "data": {
      "image/png": "[encoded data removed]",
      "text/plain": [
       "<Figure size 720x360 with 1 Axes>"
      ]
     },
     "metadata": {
      "needs_background": "light"
     },
     "output_type": "display_data"
    },
    {
     "data": {
      "image/png": "[encoded data removed]",
      "text/plain": [
       "<Figure size 720x360 with 1 Axes>"
      ]
     },
     "metadata": {
      "needs_background": "light"
     },
     "output_type": "display_data"
    },
    {
     "data": {
      "image/png": "[encoded data removed]",
      "text/plain": [
       "<Figure size 720x360 with 1 Axes>"
      ]
     },
     "metadata": {
      "needs_background": "light"
     },
     "output_type": "display_data"
    },
    {
     "data": {
      "image/png": "[encoded data removed]",
      "text/plain": [
       "<Figure size 720x360 with 1 Axes>"
      ]
     },
     "metadata": {
      "needs_background": "light"
     },
     "output_type": "display_data"
    },
    {
     "data": {
      "image/png": "[encoded data removed]",
      "text/plain": [
       "<Figure size 720x360 with 1 Axes>"
      ]
     },
     "metadata": {
      "needs_background": "light"
     },
     "output_type": "display_data"
    },
    {
     "data": {
      "image/png": "[encoded data removed]",
      "text/plain": [
       "<Figure size 720x360 with 1 Axes>"
      ]
     },
     "metadata": {
      "needs_background": "light"
     },
     "output_type": "display_data"
    }
   ],
   "source": [
    "# Plotting and saving the top common words/bigrams/trigrams\n",
    "for i, x in enumerate(X_cvecs):\n",
    "    if i % 2 == 0:\n",
    "        cs_or_pf = 'cs'\n",
    "    elif i % 2 == 1:\n",
    "        cs_or_pf = 'pf'\n",
    "    \n",
    "    if 'bi' in x:\n",
    "        n_gram_length = 2\n",
    "    elif 'tri' in x:\n",
    "        n_gram_length = 3\n",
    "    else:\n",
    "        n_gram_length = 1\n",
    "    \n",
    "    word_plots(globals()[X_cvecs[i]],cs_or_pf,n_gram_length)\n",
    "    plt.tight_layout()\n",
    "    plt.savefig(f'./images/{cs_or_pf}_Ngram_length{n_gram_length}')"
   ]
  },
  {
   "cell_type": "code",
   "execution_count": null,
   "id": "099188a6",
   "metadata": {
    "scrolled": true
   },
   "outputs": [],
   "source": []
  },
  {
   "cell_type": "code",
   "execution_count": 92,
   "id": "5b1ec861",
   "metadata": {
    "scrolled": true
   },
   "outputs": [
    {
     "data": {
      "text/plain": [
       "((1179, 6), (1179, 8551))"
      ]
     },
     "execution_count": 92,
     "metadata": {},
     "output_type": "execute_result"
    }
   ],
   "source": [
    "df_cs.shape, X_cvec_cs.shape"
   ]
  },
  {
   "cell_type": "code",
   "execution_count": 93,
   "id": "9c782622",
   "metadata": {
    "scrolled": true
   },
   "outputs": [],
   "source": [
    "df_merged = pd.concat([df_cs,df_pf])"
   ]
  },
  {
   "cell_type": "code",
   "execution_count": 94,
   "id": "ae0d7e15",
   "metadata": {},
   "outputs": [
    {
     "data": {
      "text/plain": [
       "personalfinance      1252\n",
       "cscareerquestions    1179\n",
       "Name: subreddit, dtype: int64"
      ]
     },
     "execution_count": 94,
     "metadata": {},
     "output_type": "execute_result"
    }
   ],
   "source": [
    "df_merged['subreddit'].value_counts()\n"
   ]
  },
  {
   "cell_type": "code",
   "execution_count": 95,
   "id": "5f405a97",
   "metadata": {
    "scrolled": true
   },
   "outputs": [],
   "source": [
    "# \n",
    "df_merged['subreddit'] = df_merged['subreddit'].map({'cscareerquestions':1,'personalfinance':0})"
   ]
  },
  {
   "cell_type": "code",
   "execution_count": 96,
   "id": "51dae54f",
   "metadata": {
    "scrolled": true
   },
   "outputs": [
    {
     "data": {
      "text/plain": [
       "0    1252\n",
       "1    1179\n",
       "Name: subreddit, dtype: int64"
      ]
     },
     "execution_count": 96,
     "metadata": {},
     "output_type": "execute_result"
    }
   ],
   "source": [
    "df_merged['subreddit'].value_counts()"
   ]
  },
  {
   "cell_type": "code",
   "execution_count": 97,
   "id": "76bd5170",
   "metadata": {},
   "outputs": [],
   "source": [
    "df_merged.to_csv('data/clean_subreddit_data.csv',index=False)"
   ]
  },
  {
   "cell_type": "markdown",
   "id": "701b6ac7",
   "metadata": {},
   "source": [
    "### References:\n",
    "\n",
    "[Python Optional Arguments](https://realpython.com/python-optional-arguments/)\n",
    "\n",
    "[Convert a String to Variable Name in Python](https://www.delftstack.com/howto/python/python-string-to-variable-name/)"
   ]
  }
 ],
 "metadata": {
  "kernelspec": {
   "display_name": "Python 3 (ipykernel)",
   "language": "python",
   "name": "python3"
  },
  "language_info": {
   "codemirror_mode": {
    "name": "ipython",
    "version": 3
   },
   "file_extension": ".py",
   "mimetype": "text/x-python",
   "name": "python",
   "nbconvert_exporter": "python",
   "pygments_lexer": "ipython3",
   "version": "3.8.8"
  }
 },
 "nbformat": 4,
 "nbformat_minor": 5
}
